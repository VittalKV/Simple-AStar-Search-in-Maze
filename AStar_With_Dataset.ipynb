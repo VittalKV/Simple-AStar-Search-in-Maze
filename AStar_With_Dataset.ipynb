{
 "cells": [
  {
   "cell_type": "code",
   "execution_count": 1,
   "id": "48572ca5",
   "metadata": {},
   "outputs": [],
   "source": [
    "import random\n",
    "import pandas as pd\n",
    "import numpy as np"
   ]
  },
  {
   "cell_type": "code",
   "execution_count": 2,
   "id": "2cc23bcc",
   "metadata": {},
   "outputs": [
    {
     "data": {
      "text/html": [
       "<div>\n",
       "<style scoped>\n",
       "    .dataframe tbody tr th:only-of-type {\n",
       "        vertical-align: middle;\n",
       "    }\n",
       "\n",
       "    .dataframe tbody tr th {\n",
       "        vertical-align: top;\n",
       "    }\n",
       "\n",
       "    .dataframe thead th {\n",
       "        text-align: right;\n",
       "    }\n",
       "</style>\n",
       "<table border=\"1\" class=\"dataframe\">\n",
       "  <thead>\n",
       "    <tr style=\"text-align: right;\">\n",
       "      <th></th>\n",
       "      <th>Num</th>\n",
       "    </tr>\n",
       "  </thead>\n",
       "  <tbody>\n",
       "    <tr>\n",
       "      <th>0</th>\n",
       "      <td>1</td>\n",
       "    </tr>\n",
       "    <tr>\n",
       "      <th>1</th>\n",
       "      <td>2</td>\n",
       "    </tr>\n",
       "    <tr>\n",
       "      <th>2</th>\n",
       "      <td>3</td>\n",
       "    </tr>\n",
       "    <tr>\n",
       "      <th>3</th>\n",
       "      <td>4</td>\n",
       "    </tr>\n",
       "    <tr>\n",
       "      <th>4</th>\n",
       "      <td>5</td>\n",
       "    </tr>\n",
       "    <tr>\n",
       "      <th>...</th>\n",
       "      <td>...</td>\n",
       "    </tr>\n",
       "    <tr>\n",
       "      <th>95</th>\n",
       "      <td>96</td>\n",
       "    </tr>\n",
       "    <tr>\n",
       "      <th>96</th>\n",
       "      <td>97</td>\n",
       "    </tr>\n",
       "    <tr>\n",
       "      <th>97</th>\n",
       "      <td>98</td>\n",
       "    </tr>\n",
       "    <tr>\n",
       "      <th>98</th>\n",
       "      <td>99</td>\n",
       "    </tr>\n",
       "    <tr>\n",
       "      <th>99</th>\n",
       "      <td>100</td>\n",
       "    </tr>\n",
       "  </tbody>\n",
       "</table>\n",
       "<p>100 rows × 1 columns</p>\n",
       "</div>"
      ],
      "text/plain": [
       "    Num\n",
       "0     1\n",
       "1     2\n",
       "2     3\n",
       "3     4\n",
       "4     5\n",
       "..  ...\n",
       "95   96\n",
       "96   97\n",
       "97   98\n",
       "98   99\n",
       "99  100\n",
       "\n",
       "[100 rows x 1 columns]"
      ]
     },
     "execution_count": 2,
     "metadata": {},
     "output_type": "execute_result"
    }
   ],
   "source": [
    "df = pd.read_csv('Dataset.csv')\n",
    "df"
   ]
  },
  {
   "cell_type": "code",
   "execution_count": 3,
   "id": "8af7eca6",
   "metadata": {},
   "outputs": [
    {
     "name": "stdout",
     "output_type": "stream",
     "text": [
      "[  1   2   3   4   5   6   7   8   9  10  11  12  13  14  15  16  17  18\n",
      "  19  20  21  22  23  24  25  26  27  28  29  30  31  32  33  34  35  36\n",
      "  37  38  39  40  41  42  43  44  45  46  47  48  49  50  51  52  53  54\n",
      "  55  56  57  58  59  60  61  62  63  64  65  66  67  68  69  70  71  72\n",
      "  73  74  75  76  77  78  79  80  81  82  83  84  85  86  87  88  89  90\n",
      "  91  92  93  94  95  96  97  98  99 100]\n"
     ]
    }
   ],
   "source": [
    "data = df['Num'].to_numpy()\n",
    "print(data)"
   ]
  },
  {
   "cell_type": "code",
   "execution_count": 4,
   "id": "bc5dc7bf",
   "metadata": {},
   "outputs": [
    {
     "name": "stdout",
     "output_type": "stream",
     "text": [
      "Maze Size: 15\n",
      "Maze Size:  15\n"
     ]
    }
   ],
   "source": [
    "n = int(input(\"Maze Size: \"))\n",
    "print(\"Maze Size: \",n)"
   ]
  },
  {
   "cell_type": "code",
   "execution_count": 5,
   "id": "db040b0a",
   "metadata": {},
   "outputs": [
    {
     "name": "stdout",
     "output_type": "stream",
     "text": [
      "2 15 9 10\n"
     ]
    }
   ],
   "source": [
    "while(True):\n",
    "    sx = random.choice(data)\n",
    "    sy = random.choice(data)\n",
    "    gx = random.choice(data)\n",
    "    gy = random.choice(data)\n",
    "    if(sx>n or sy>n or gx>n or gy>n):\n",
    "        continue\n",
    "    else:\n",
    "        break\n",
    "print(sx,sy,gx,gy)"
   ]
  },
  {
   "cell_type": "code",
   "execution_count": 6,
   "id": "c9e43e54",
   "metadata": {},
   "outputs": [],
   "source": [
    "from pyamaze import maze,agent,COLOR,textLabel\n",
    "from queue import PriorityQueue"
   ]
  },
  {
   "cell_type": "code",
   "execution_count": 7,
   "id": "8e7e30c2",
   "metadata": {},
   "outputs": [],
   "source": [
    "def h(cell1, cell2):\n",
    "    x1, y1 = cell1\n",
    "    x2, y2 = cell2\n",
    "    return (abs(x1 - x2) + abs(y1 - y2))"
   ]
  },
  {
   "cell_type": "code",
   "execution_count": 8,
   "id": "7c3eaf00",
   "metadata": {},
   "outputs": [],
   "source": [
    "def aStar(m,start=None):\n",
    "    if start is None:\n",
    "        start=(m.rows,m.cols)\n",
    "    \n",
    "    open = PriorityQueue()\n",
    "    open.put((h(start, m._goal), h(start, m._goal), start))\n",
    "    aPath = {}\n",
    "    \n",
    "    g_score = {row: float(\"inf\") for row in m.grid}\n",
    "    g_score[start] = 0\n",
    "    f_score = {row: float(\"inf\") for row in m.grid}\n",
    "    f_score[start] = h(start, m._goal)\n",
    "    searchPath=[start]\n",
    "    \n",
    "    while not open.empty():\n",
    "        currCell = open.get()[2]\n",
    "        searchPath.append(currCell)\n",
    "        if currCell == m._goal:\n",
    "            break        \n",
    "        for d in 'ESNW':\n",
    "            if m.maze_map[currCell][d]==True:\n",
    "                if d=='E':\n",
    "                    childCell=(currCell[0],currCell[1]+1)\n",
    "                elif d=='W':\n",
    "                    childCell=(currCell[0],currCell[1]-1)\n",
    "                elif d=='N':\n",
    "                    childCell=(currCell[0]-1,currCell[1])\n",
    "                elif d=='S':\n",
    "                    childCell=(currCell[0]+1,currCell[1])\n",
    "\n",
    "                temp_g_score = g_score[currCell] + 1\n",
    "                temp_f_score = temp_g_score + h(childCell, m._goal)\n",
    "\n",
    "                if temp_f_score < f_score[childCell]:   \n",
    "                    aPath[childCell] = currCell\n",
    "                    g_score[childCell] = temp_g_score\n",
    "                    f_score[childCell] = temp_g_score + h(childCell, m._goal)\n",
    "                    open.put((f_score[childCell], h(childCell, m._goal), childCell))\n",
    "\n",
    "    fwdPath={}\n",
    "    cell=m._goal\n",
    "    while cell!=start:\n",
    "        fwdPath[aPath[cell]]=cell\n",
    "        cell=aPath[cell]\n",
    "    return searchPath,aPath,fwdPath"
   ]
  },
  {
   "cell_type": "code",
   "execution_count": null,
   "id": "dd8c55fe",
   "metadata": {},
   "outputs": [],
   "source": [
    "m = maze(n,n)\n",
    "m.CreateMaze(gx,gy)\n",
    "\n",
    "searchPath,aPath,fwdPath=aStar(m, (sx,sy))\n",
    "\n",
    "a=agent(m,sx,sy,footprints=True,color=COLOR.blue,filled=True)\n",
    "b=agent(m,gx,gy,footprints=True,color=COLOR.yellow,filled=True,goal=(sx,sy))\n",
    "c=agent(m,sx,sy,footprints=True,color=COLOR.red,goal=(gx,gy))\n",
    "\n",
    "m.tracePath({a:searchPath},delay=300)\n",
    "m.tracePath({b:aPath},delay=300)\n",
    "m.tracePath({c:fwdPath},delay=300)\n",
    "\n",
    "l=textLabel(m,'A Star Path Length',len(fwdPath)+1)\n",
    "l=textLabel(m,'A Star Search Length',len(searchPath))\n",
    "m.run()"
   ]
  },
  {
   "cell_type": "code",
   "execution_count": null,
   "id": "f9b10479",
   "metadata": {},
   "outputs": [],
   "source": []
  }
 ],
 "metadata": {
  "kernelspec": {
   "display_name": "Python 3 (ipykernel)",
   "language": "python",
   "name": "python3"
  },
  "language_info": {
   "codemirror_mode": {
    "name": "ipython",
    "version": 3
   },
   "file_extension": ".py",
   "mimetype": "text/x-python",
   "name": "python",
   "nbconvert_exporter": "python",
   "pygments_lexer": "ipython3",
   "version": "3.11.5"
  }
 },
 "nbformat": 4,
 "nbformat_minor": 5
}
