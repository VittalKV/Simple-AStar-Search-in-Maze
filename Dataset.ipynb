{
 "cells": [
  {
   "cell_type": "code",
   "execution_count": 1,
   "id": "bfc7791d",
   "metadata": {
    "scrolled": false
   },
   "outputs": [],
   "source": [
    "import numpy as np\n",
    "import pandas as pd"
   ]
  },
  {
   "cell_type": "code",
   "execution_count": 2,
   "id": "31f57823",
   "metadata": {},
   "outputs": [],
   "source": [
    "field = ['Num']\n",
    "l = []; data = {}\n",
    "\n",
    "for i in range(1,101):\n",
    "    l.append(i)\n",
    "\n",
    "data['Num'] = l\n",
    "df = pd.DataFrame(data)"
   ]
  },
  {
   "cell_type": "code",
   "execution_count": 3,
   "id": "a32acb63",
   "metadata": {},
   "outputs": [],
   "source": [
    "csvdata = df.to_csv('Dataset.csv', index = False)"
   ]
  }
 ],
 "metadata": {
  "kernelspec": {
   "display_name": "Python 3 (ipykernel)",
   "language": "python",
   "name": "python3"
  },
  "language_info": {
   "codemirror_mode": {
    "name": "ipython",
    "version": 3
   },
   "file_extension": ".py",
   "mimetype": "text/x-python",
   "name": "python",
   "nbconvert_exporter": "python",
   "pygments_lexer": "ipython3",
   "version": "3.11.5"
  }
 },
 "nbformat": 4,
 "nbformat_minor": 5
}
